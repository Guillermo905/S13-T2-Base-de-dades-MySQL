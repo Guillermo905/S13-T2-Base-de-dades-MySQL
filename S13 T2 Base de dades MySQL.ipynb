{
 "cells": [
  {
   "cell_type": "markdown",
   "id": "3095de31",
   "metadata": {},
   "source": [
    "# Nivell 1\n",
    "\n",
    "## Exercici 1\n",
    "\n",
    "Crea una base de dades relacionals senzilla utilitzant MySQL(https://www.mysql.com/) i connecta-la a Python"
   ]
  },
  {
   "cell_type": "code",
   "execution_count": 1,
   "id": "807ad7c0",
   "metadata": {},
   "outputs": [],
   "source": [
    "import mysql.connector"
   ]
  },
  {
   "cell_type": "code",
   "execution_count": 2,
   "id": "83039b17",
   "metadata": {},
   "outputs": [
    {
     "name": "stdout",
     "output_type": "stream",
     "text": [
      "Introdueix usuari: ········\n",
      "Introdueix contrasenya: ········\n",
      "<mysql.connector.connection_cext.CMySQLConnection object at 0x00000230C66E12B0>\n"
     ]
    }
   ],
   "source": [
    "from getpass import getpass\n",
    "mydb = mysql.connector.connect(\n",
    "  host=\"localhost\",\n",
    "  user= getpass(\"Introdueix usuari: \"), #Puesto el nombre de usuario en el momento de ejecución\n",
    "  password= getpass('Introdueix contrasenya: ') #Puesta la contraseña en el momento de ejecución\n",
    ")\n",
    "\n",
    "print(mydb) "
   ]
  },
  {
   "cell_type": "code",
   "execution_count": 3,
   "id": "6cfb622b",
   "metadata": {},
   "outputs": [
    {
     "name": "stdout",
     "output_type": "stream",
     "text": [
      "('information_schema',)\n",
      "('mydb',)\n",
      "('mysql',)\n",
      "('performance_schema',)\n",
      "('sakila',)\n",
      "('sys',)\n",
      "('test_1',)\n",
      "('world',)\n"
     ]
    }
   ],
   "source": [
    "#Crear una base de dades senzilles amb sql\n",
    "#Connectar a python\n",
    "#Fer consultes a la base de dades\n",
    "cursor = mydb.cursor()\n",
    "cursor.execute('SHOW DATABASES')\n",
    "for db in cursor:\n",
    "    print(db)"
   ]
  },
  {
   "cell_type": "code",
   "execution_count": 4,
   "id": "635ec943",
   "metadata": {},
   "outputs": [
    {
     "ename": "DatabaseError",
     "evalue": "1007 (HY000): Can't create database 'test_1'; database exists",
     "output_type": "error",
     "traceback": [
      "\u001b[1;31m---------------------------------------------------------------------------\u001b[0m",
      "\u001b[1;31mMySQLInterfaceError\u001b[0m                       Traceback (most recent call last)",
      "\u001b[1;32m~\\anaconda3\\lib\\site-packages\\mysql\\connector\\connection_cext.py\u001b[0m in \u001b[0;36mcmd_query\u001b[1;34m(self, query, raw, buffered, raw_as_string)\u001b[0m\n\u001b[0;32m    534\u001b[0m                 \u001b[0mquery\u001b[0m \u001b[1;33m=\u001b[0m \u001b[0mquery\u001b[0m\u001b[1;33m.\u001b[0m\u001b[0mencode\u001b[0m\u001b[1;33m(\u001b[0m\u001b[1;34m'utf-8'\u001b[0m\u001b[1;33m)\u001b[0m\u001b[1;33m\u001b[0m\u001b[1;33m\u001b[0m\u001b[0m\n\u001b[1;32m--> 535\u001b[1;33m             self._cmysql.query(query,\n\u001b[0m\u001b[0;32m    536\u001b[0m                                \u001b[0mraw\u001b[0m\u001b[1;33m=\u001b[0m\u001b[0mraw\u001b[0m\u001b[1;33m,\u001b[0m \u001b[0mbuffered\u001b[0m\u001b[1;33m=\u001b[0m\u001b[0mbuffered\u001b[0m\u001b[1;33m,\u001b[0m\u001b[1;33m\u001b[0m\u001b[1;33m\u001b[0m\u001b[0m\n",
      "\u001b[1;31mMySQLInterfaceError\u001b[0m: Can't create database 'test_1'; database exists",
      "\nDuring handling of the above exception, another exception occurred:\n",
      "\u001b[1;31mDatabaseError\u001b[0m                             Traceback (most recent call last)",
      "\u001b[1;32mC:\\Users\\GUILLE~1\\AppData\\Local\\Temp/ipykernel_18404/3740283072.py\u001b[0m in \u001b[0;36m<module>\u001b[1;34m\u001b[0m\n\u001b[1;32m----> 1\u001b[1;33m \u001b[0mcursor\u001b[0m\u001b[1;33m.\u001b[0m\u001b[0mexecute\u001b[0m\u001b[1;33m(\u001b[0m\u001b[1;34m'CREATE DATABASE test_1'\u001b[0m\u001b[1;33m)\u001b[0m\u001b[1;33m\u001b[0m\u001b[1;33m\u001b[0m\u001b[0m\n\u001b[0m",
      "\u001b[1;32m~\\anaconda3\\lib\\site-packages\\mysql\\connector\\cursor_cext.py\u001b[0m in \u001b[0;36mexecute\u001b[1;34m(self, operation, params, multi)\u001b[0m\n\u001b[0;32m    267\u001b[0m \u001b[1;33m\u001b[0m\u001b[0m\n\u001b[0;32m    268\u001b[0m         \u001b[1;32mtry\u001b[0m\u001b[1;33m:\u001b[0m\u001b[1;33m\u001b[0m\u001b[1;33m\u001b[0m\u001b[0m\n\u001b[1;32m--> 269\u001b[1;33m             result = self._cnx.cmd_query(stmt, raw=self._raw,\n\u001b[0m\u001b[0;32m    270\u001b[0m                                          \u001b[0mbuffered\u001b[0m\u001b[1;33m=\u001b[0m\u001b[0mself\u001b[0m\u001b[1;33m.\u001b[0m\u001b[0m_buffered\u001b[0m\u001b[1;33m,\u001b[0m\u001b[1;33m\u001b[0m\u001b[1;33m\u001b[0m\u001b[0m\n\u001b[0;32m    271\u001b[0m                                          raw_as_string=self._raw_as_string)\n",
      "\u001b[1;32m~\\anaconda3\\lib\\site-packages\\mysql\\connector\\connection_cext.py\u001b[0m in \u001b[0;36mcmd_query\u001b[1;34m(self, query, raw, buffered, raw_as_string)\u001b[0m\n\u001b[0;32m    538\u001b[0m                                query_attrs=self._query_attrs)\n\u001b[0;32m    539\u001b[0m         \u001b[1;32mexcept\u001b[0m \u001b[0mMySQLInterfaceError\u001b[0m \u001b[1;32mas\u001b[0m \u001b[0mexc\u001b[0m\u001b[1;33m:\u001b[0m\u001b[1;33m\u001b[0m\u001b[1;33m\u001b[0m\u001b[0m\n\u001b[1;32m--> 540\u001b[1;33m             raise errors.get_mysql_exception(exc.errno, msg=exc.msg,\n\u001b[0m\u001b[0;32m    541\u001b[0m                                              sqlstate=exc.sqlstate)\n\u001b[0;32m    542\u001b[0m         \u001b[1;32mexcept\u001b[0m \u001b[0mAttributeError\u001b[0m\u001b[1;33m:\u001b[0m\u001b[1;33m\u001b[0m\u001b[1;33m\u001b[0m\u001b[0m\n",
      "\u001b[1;31mDatabaseError\u001b[0m: 1007 (HY000): Can't create database 'test_1'; database exists"
     ]
    }
   ],
   "source": [
    "cursor.execute('CREATE DATABASE test_1')\n",
    "#Apareix error perquè s'ha executat dos cops"
   ]
  },
  {
   "cell_type": "code",
   "execution_count": 7,
   "id": "e2bbfd1c",
   "metadata": {},
   "outputs": [
    {
     "name": "stdout",
     "output_type": "stream",
     "text": [
      "('information_schema',)\n",
      "('mydb',)\n",
      "('mysql',)\n",
      "('performance_schema',)\n",
      "('sakila',)\n",
      "('sys',)\n",
      "('test_1',)\n",
      "('world',)\n"
     ]
    }
   ],
   "source": [
    "#Comprobem que s'ha creat la base de dades\n",
    "cursor.execute('SHOW DATABASES')\n",
    "for db in cursor:\n",
    "    print(db)"
   ]
  },
  {
   "cell_type": "markdown",
   "id": "2ae09ac9",
   "metadata": {},
   "source": [
    "test_1 correspon a una base de dades formades per dues taules que contindran els següents paràmetres:\n",
    "* Tabla 1 --> Personal:\n",
    "    * id treballador\n",
    "    * Nom\n",
    "    * Cognoms\n",
    "    * id lloc de treball que correspón a id establiment\n",
    "* Tabla 2 --> Establiments\n",
    "    * id establiment\n",
    "    * Direcció\n"
   ]
  },
  {
   "cell_type": "code",
   "execution_count": 8,
   "id": "7d716cd5",
   "metadata": {},
   "outputs": [
    {
     "name": "stdout",
     "output_type": "stream",
     "text": [
      "Introdueix usuari········\n",
      "Introdueix contrasenya········\n"
     ]
    }
   ],
   "source": [
    "#Connexió a la base de dades\n",
    "mydb = mysql.connector.connect(\n",
    "    host = 'localhost',\n",
    "    user = getpass('Introdueix usuari'),\n",
    "    password = getpass('Introdueix contrasenya'),\n",
    "    database = 'test_1'\n",
    ")"
   ]
  },
  {
   "cell_type": "code",
   "execution_count": 26,
   "id": "c1505f93",
   "metadata": {},
   "outputs": [],
   "source": [
    "Tpersonal = '''\n",
    "CREATE TABLE Personal(\n",
    "    idPersonal INT AUTO_INCREMENT PRIMARY KEY,\n",
    "    Nom VARCHAR(100),\n",
    "    Cognoms VARCHAR(100),\n",
    "    IdEstabliment INT,\n",
    "    FOREIGN KEY(IdEstabliment) REFERENCES Establiments(IdEstabliment)\n",
    ")\n",
    "'''\n",
    "\n",
    "Testabliments = '''\n",
    "CREATE TABLE Establiments(\n",
    "    IdEstabliment INT AUTO_INCREMENT PRIMARY KEY,\n",
    "    Direccio VARCHAR(100)\n",
    ")\n",
    "'''\n",
    "#ProgrammingError: 1072 (42000): Key column 'Establiment' doesn't exist in table"
   ]
  },
  {
   "cell_type": "code",
   "execution_count": 32,
   "id": "4e4528a3",
   "metadata": {},
   "outputs": [],
   "source": [
    "cursor = mydb.cursor()\n",
    "cursor.execute(Testabliments)\n",
    "cursor.execute(Tpersonal)\n",
    "\n",
    "mydb.commit()"
   ]
  },
  {
   "cell_type": "code",
   "execution_count": 33,
   "id": "0d7e2a62",
   "metadata": {},
   "outputs": [],
   "source": [
    "dataEstabliments = '''\n",
    "INSERT INTO Establiments(Direccio) VALUES \n",
    "    ('Passeig de Gràcia'), ('Ronda Guindardó')\n",
    "'''"
   ]
  },
  {
   "cell_type": "code",
   "execution_count": 34,
   "id": "899baf04",
   "metadata": {},
   "outputs": [],
   "source": [
    "cursor.execute(dataEstabliments)\n",
    "mydb.commit()"
   ]
  },
  {
   "cell_type": "code",
   "execution_count": 35,
   "id": "63f45524",
   "metadata": {},
   "outputs": [
    {
     "name": "stdout",
     "output_type": "stream",
     "text": [
      "2 record inserted.\n"
     ]
    }
   ],
   "source": [
    "print(cursor.rowcount, \"record inserted.\")"
   ]
  },
  {
   "cell_type": "code",
   "execution_count": 37,
   "id": "c0facc20",
   "metadata": {},
   "outputs": [
    {
     "name": "stdout",
     "output_type": "stream",
     "text": [
      "(1, 'Passeig de Gràcia')\n",
      "(2, 'Ronda Guindardó')\n"
     ]
    }
   ],
   "source": [
    "cursor.execute('SELECT * FROM Establiments')\n",
    "result = cursor.fetchall()\n",
    "for x in result:\n",
    "    print(x)"
   ]
  },
  {
   "cell_type": "code",
   "execution_count": 38,
   "id": "4d3803f8",
   "metadata": {},
   "outputs": [],
   "source": [
    "dataPersonal = '''\n",
    "INSERT Personal(Nom, Cognoms, IdEstabliment) VALUES\n",
    "    ('Joan', 'Pons', 1),\n",
    "    ('Maria', 'Torrades', 1),\n",
    "    ('Pep', 'Vallés', 2)\n",
    "'''"
   ]
  },
  {
   "cell_type": "code",
   "execution_count": 40,
   "id": "792dd4c9",
   "metadata": {},
   "outputs": [
    {
     "name": "stdout",
     "output_type": "stream",
     "text": [
      "3 record inserted.\n"
     ]
    }
   ],
   "source": [
    "cursor.execute(dataPersonal)\n",
    "mydb.commit()\n",
    "print(cursor.rowcount, 'record inserted.')"
   ]
  },
  {
   "cell_type": "code",
   "execution_count": 41,
   "id": "16b9d932",
   "metadata": {},
   "outputs": [
    {
     "name": "stdout",
     "output_type": "stream",
     "text": [
      "(1, 'Joan', 'Pons', 1)\n",
      "(2, 'Maria', 'Torrades', 1)\n",
      "(3, 'Pep', 'Vallés', 2)\n",
      "(4, 'Joan', 'Pons', 1)\n",
      "(5, 'Maria', 'Torrades', 1)\n",
      "(6, 'Pep', 'Vallés', 2)\n"
     ]
    }
   ],
   "source": [
    "cursor.execute('SELECT * FROM Personal')\n",
    "result = cursor.fetchall()\n",
    "for x in result:\n",
    "    print(x)"
   ]
  }
 ],
 "metadata": {
  "kernelspec": {
   "display_name": "Python 3 (ipykernel)",
   "language": "python",
   "name": "python3"
  },
  "language_info": {
   "codemirror_mode": {
    "name": "ipython",
    "version": 3
   },
   "file_extension": ".py",
   "mimetype": "text/x-python",
   "name": "python",
   "nbconvert_exporter": "python",
   "pygments_lexer": "ipython3",
   "version": "3.9.7"
  }
 },
 "nbformat": 4,
 "nbformat_minor": 5
}
